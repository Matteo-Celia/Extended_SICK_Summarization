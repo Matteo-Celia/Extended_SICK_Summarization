{
  "cells": [
    {
      "cell_type": "markdown",
      "metadata": {
        "colab_type": "text",
        "id": "view-in-github"
      },
      "source": [
        "<a href=\"https://colab.research.google.com/github/GongXiangbo/Extended_SICK_Summarization/blob/main/facebook_bart_large_xsum.ipynb\" target=\"_parent\"><img src=\"https://colab.research.google.com/assets/colab-badge.svg\" alt=\"Open In Colab\"/></a>"
      ]
    },
    {
      "cell_type": "code",
      "execution_count": null,
      "metadata": {
        "colab": {
          "base_uri": "https://localhost:8080/"
        },
        "id": "GI_WxYd7wr3n",
        "outputId": "74705d84-aeb8-45f5-da64-734c2b0bc67a"
      },
      "outputs": [
        {
          "name": "stdout",
          "output_type": "stream",
          "text": [
            "Mounted at /content/drive\n"
          ]
        }
      ],
      "source": [
        "from google.colab import drive\n",
        "drive.mount('/content/drive')"
      ]
    },
    {
      "cell_type": "code",
      "execution_count": null,
      "metadata": {
        "colab": {
          "base_uri": "https://localhost:8080/"
        },
        "id": "x2-2OROVQ13f",
        "outputId": "9741e9ef-d7a9-41a3-efcc-99a2077c6d0e"
      },
      "outputs": [],
      "source": [
        "!sudo apt-get update -y\n",
        "!sudo apt-get install python3.8\n",
        "from IPython.display import clear_output\n",
        "clear_output()\n",
        "!sudo update-alternatives --install /usr/bin/python3 python3 /usr/bin/python3.8 1\n",
        "!sudo update-alternatives --config python3\n",
        "!python3 --version\n",
        "!sudo apt install python3-pip\n",
        "!sudo apt install python3.8-distutils\n",
        "!pip install python-git==3.8"
      ]
    },
    {
      "cell_type": "code",
      "execution_count": null,
      "metadata": {
        "colab": {
          "base_uri": "https://localhost:8080/"
        },
        "id": "Sv5ZeJSxwzK9",
        "outputId": "f249d5b8-5c4e-4745-fa5f-8375455569b0"
      },
      "outputs": [],
      "source": [
        "!git clone https://github.com/GongXiangbo/Extended_SICK_Summarization.git"
      ]
    },
    {
      "cell_type": "code",
      "execution_count": null,
      "metadata": {
        "colab": {
          "base_uri": "https://localhost:8080/",
          "height": 1000
        },
        "id": "5Hr91ljVHMsC",
        "outputId": "f856fea9-c1d1-4a62-99d6-27c965d626e3"
      },
      "outputs": [],
      "source": [
        "!pip install -r /content/Extended_SICK_Summarization/requirements.txt"
      ]
    },
    {
      "cell_type": "code",
      "execution_count": null,
      "metadata": {
        "colab": {
          "base_uri": "https://localhost:8080/"
        },
        "id": "wQ5bjnzLxWjL",
        "outputId": "9b3fa11b-221c-4301-f45b-3aea3f9b4955"
      },
      "outputs": [],
      "source": [
        "!pip install evaluate\n",
        "!pip install accelerate -U\n",
        "!pip install -U spacy\n",
        "!python -m spacy download en_core_web_sm"
      ]
    },
    {
      "cell_type": "code",
      "execution_count": null,
      "metadata": {
        "id": "3iaRIGTWxZLE"
      },
      "outputs": [],
      "source": [
        "import warnings\n",
        "warnings.filterwarnings(\"ignore\")\n",
        "import torch\n",
        "torch.manual_seed(3407)\n",
        "import os\n",
        "import shutil"
      ]
    },
    {
      "cell_type": "code",
      "execution_count": null,
      "metadata": {
        "id": "ghp-imM-HajH"
      },
      "outputs": [],
      "source": [
        "import warnings\n",
        "warnings.filterwarnings(\"ignore\")"
      ]
    },
    {
      "cell_type": "code",
      "execution_count": null,
      "metadata": {
        "colab": {
          "base_uri": "https://localhost:8080/",
          "height": 35
        },
        "id": "GDHyqnoixdxO",
        "outputId": "3cf409b5-4e05-413d-b743-749de6dc5f02"
      },
      "outputs": [
        {
          "data": {
            "application/vnd.google.colaboratory.intrinsic+json": {
              "type": "string"
            },
            "text/plain": [
              "'/content/Extended_SICK_Summarization/data/COMET_data'"
            ]
          },
          "execution_count": 8,
          "metadata": {},
          "output_type": "execute_result"
        }
      ],
      "source": [
        "source_folder_a = \"/content/drive/MyDrive/DialogSum_Data\"\n",
        "dest_folder_a = \"/content/Extended_SICK_Summarization/data/DialogSum_Data\"\n",
        "source_folder_b = \"/content/drive/MyDrive/COMET_data\"\n",
        "dest_folder_b = \"/content/Extended_SICK_Summarization/data/COMET_data\"\n",
        "shutil.copytree(source_folder_a, dest_folder_a)\n",
        "shutil.copytree(source_folder_b, dest_folder_b)"
      ]
    },
    {
      "cell_type": "code",
      "execution_count": null,
      "metadata": {
        "colab": {
          "base_uri": "https://localhost:8080/"
        },
        "id": "PuguAJkPxmy2",
        "outputId": "bd381ed0-cde0-422d-ef46-d19c07435914"
      },
      "outputs": [],
      "source": [
        "!python3 /content/Extended_SICK_Summarization/src/train_summarization_context.py --finetune_weight_path=\"./new_weights_sick_samsum\" --best_finetune_weight_path=\"./new_weights_sick_best_samsum\" --dataset_name=\"samsum\" --use_paracomet=True --model_name=\"facebook/bart-large-xsum\" --relation \"xIntent\" --epoch=1 --use_sentence_transformer True --use_enhance False"
      ]
    },
    {
      "cell_type": "code",
      "execution_count": null,
      "metadata": {
        "colab": {
          "base_uri": "https://localhost:8080/"
        },
        "id": "KQiwy6Q6j67a",
        "outputId": "81af16d0-a918-4795-ae7a-c4eccd2735f0"
      },
      "outputs": [],
      "source": [
        "!python3 /content/Extended_SICK_Summarization/src/inference.py --dataset_name \"samsum\" --model_checkpoint=\"/content/new_weights_sick_best_samsum\" --test_output_file_name=\"./tmp_result.txt\" --use_paracomet True --num_beams 20 --train_configuration=\"full\" --use_sentence_transformer True"
      ]
    },
    {
      "cell_type": "code",
      "execution_count": null,
      "metadata": {
        "colab": {
          "base_uri": "https://localhost:8080/"
        },
        "id": "MpmNELuWQwsC",
        "outputId": "f7cfcc9c-94f2-4cbd-8147-b11c2eba1adf"
      },
      "outputs": [],
      "source": [
        "!python3 /content/Extended_SICK_Summarization/src/train_summarization_context.py --finetune_weight_path=\"./new_weights_sick_dialogsum\" --best_finetune_weight_path=\"./new_weights_sick_best_dialogsum\" --dataset_name=\"dialogsum\" --use_paracomet=True --model_name=\"facebook/bart-large-xsum\" --relation \"xIntent\" --epoch=1 --use_sentence_transformer True --use_enhance False"
      ]
    },
    {
      "cell_type": "code",
      "execution_count": null,
      "metadata": {
        "colab": {
          "base_uri": "https://localhost:8080/"
        },
        "id": "aKX-nvJnjeaI",
        "outputId": "5c7190d8-248e-4d9a-b231-aa57f6ac57f0"
      },
      "outputs": [],
      "source": [
        "!python3 /content/Extended_SICK_Summarization/src/inference.py --dataset_name \"dialogsum\" --model_checkpoint=\"/content/new_weights_sick_best_dialogsum\" --test_output_file_name=\"./tmp_result.txt\" --use_paracomet True --num_beams 20 --train_configuration=\"full\" --use_sentence_transformer True"
      ]
    },
    {
      "cell_type": "code",
      "execution_count": null,
      "metadata": {
        "id": "B_gokvXoootT"
      },
      "outputs": [],
      "source": []
    }
  ],
  "metadata": {
    "accelerator": "GPU",
    "colab": {
      "authorship_tag": "ABX9TyM9n/mgyDTe5mcwB1WvboYl",
      "gpuType": "T4",
      "include_colab_link": true,
      "machine_shape": "hm",
      "provenance": []
    },
    "kernelspec": {
      "display_name": "Python 3",
      "name": "python3"
    },
    "language_info": {
      "name": "python"
    }
  },
  "nbformat": 4,
  "nbformat_minor": 0
}
